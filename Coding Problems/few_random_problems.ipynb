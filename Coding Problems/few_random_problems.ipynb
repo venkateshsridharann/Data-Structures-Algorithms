{
 "cells": [
  {
   "cell_type": "code",
   "execution_count": 715,
   "metadata": {},
   "outputs": [],
   "source": [
    "#1)reverse a string without affecting the position of special charecters"
   ]
  },
  {
   "cell_type": "code",
   "execution_count": 146,
   "metadata": {},
   "outputs": [],
   "source": [
    "import string\n",
    "\n",
    "def reversealpha(s):\n",
    "    temp = []\n",
    "    print (s)\n",
    "    n = ''\n",
    "    for i in s:\n",
    "        if i in string.ascii_letters:\n",
    "            temp+=i\n",
    "    \n",
    "    for i in range(len(s)):\n",
    "        if s[i] in string.ascii_letters:            \n",
    "            n+= temp.pop()\n",
    "        else:\n",
    "            n+= s[i]\n",
    "\n",
    "        \n",
    "    print (n)"
   ]
  },
  {
   "cell_type": "code",
   "execution_count": 150,
   "metadata": {},
   "outputs": [
    {
     "name": "stdout",
     "output_type": "stream",
     "text": [
      "$$$a!s!df\n",
      "$$$f!d!sa\n"
     ]
    }
   ],
   "source": [
    "reversealpha(\"$$$a!s!df\")\n"
   ]
  },
  {
   "cell_type": "code",
   "execution_count": 716,
   "metadata": {},
   "outputs": [],
   "source": [
    "#2)Given a string, find all possible palindromic partitions of given string."
   ]
  },
  {
   "cell_type": "code",
   "execution_count": 203,
   "metadata": {},
   "outputs": [],
   "source": [
    "def possiblepalindrome(s):\n",
    "    palin = []\n",
    "    for n in range(len(s)):\n",
    "        \n",
    "        for m in range(n, len(s)):\n",
    "            x = s[n:m+1]\n",
    "            if (s[n:m+1] == x[::-1]):\n",
    "                palin.append(s[n:m+1])\n",
    "                \n",
    "    print(palin)"
   ]
  },
  {
   "cell_type": "code",
   "execution_count": 204,
   "metadata": {},
   "outputs": [
    {
     "name": "stdout",
     "output_type": "stream",
     "text": [
      "['j', 'jij', 'jijij', 'i', 'iji', 'j', 'jij', 'i', 'j']\n"
     ]
    }
   ],
   "source": [
    "possiblepalindrome('jijij')"
   ]
  },
  {
   "cell_type": "code",
   "execution_count": 717,
   "metadata": {},
   "outputs": [],
   "source": [
    "#3)Given an array of distinct integers and a sum value. Find count of triplets with sum smaller than given sum value. "
   ]
  },
  {
   "cell_type": "code",
   "execution_count": 308,
   "metadata": {},
   "outputs": [],
   "source": [
    "def tripletsum(arr, tot):\n",
    "    arr.sort()\n",
    "    ans = 0\n",
    "    for i in range(len(arr)-2):\n",
    "        j = i+1\n",
    "        k = len(arr)-1\n",
    "        \n",
    "        \n",
    "        while (j<k):\n",
    "\n",
    "            if (arr[i]+arr[j]+arr[k]) >= tot:\n",
    "#                 print (arr[i],arr[j],arr[k])\n",
    "#                 print(arr[i]+arr[j]+arr[k]) \n",
    "                k-=1\n",
    "            else:\n",
    "#                 print (arr[i],arr[j],arr[k])\n",
    "#                 print(arr[i]+arr[j]+arr[k]) \n",
    "                ans+= k-j\n",
    "#                 print('count is: ' + str(ans))\n",
    "                j+=1\n",
    "            \n",
    "    return ans"
   ]
  },
  {
   "cell_type": "code",
   "execution_count": 309,
   "metadata": {},
   "outputs": [
    {
     "data": {
      "text/plain": [
       "4"
      ]
     },
     "execution_count": 309,
     "metadata": {},
     "output_type": "execute_result"
    }
   ],
   "source": [
    "tripletsum([1,3,4,5,7], 12)"
   ]
  },
  {
   "cell_type": "code",
   "execution_count": 311,
   "metadata": {},
   "outputs": [],
   "source": [
    "#4)Given an array rearrange in zig-zag fashion in O(n) time. The converted array should be in form a < b > c < d > e < f."
   ]
  },
  {
   "cell_type": "code",
   "execution_count": 344,
   "metadata": {},
   "outputs": [],
   "source": [
    "def zigzag(arr):\n",
    "    \n",
    "    arr.sort()\n",
    "    out = []\n",
    "    if len(arr)%2 == 1:\n",
    "        a1 = arr[:len(arr)//2+1]\n",
    "        a2 = arr[len(arr)//2+1:]\n",
    "    \n",
    "    else:    \n",
    "        a1 = arr[:len(arr)//2]\n",
    "        a2 = arr[len(arr)//2:]\n",
    "    print(a1,a2)    \n",
    "    for i in range(len(a2)):\n",
    "        out.append(a1[i])\n",
    "        out.append(a2[i])\n",
    "    \n",
    "    if (len(a1)>len(a2)):\n",
    "        out.append(a1[len(a1)-1])\n",
    "    return out \n",
    "    "
   ]
  },
  {
   "cell_type": "code",
   "execution_count": 346,
   "metadata": {},
   "outputs": [
    {
     "name": "stdout",
     "output_type": "stream",
     "text": [
      "[-5, -1, 3] [3, 6, 7]\n"
     ]
    },
    {
     "data": {
      "text/plain": [
       "[-5, 3, -1, 6, 3, 7]"
      ]
     },
     "execution_count": 346,
     "metadata": {},
     "output_type": "execute_result"
    }
   ],
   "source": [
    "zigzag([-1,3,7,6,-5,3])"
   ]
  },
  {
   "cell_type": "code",
   "execution_count": 347,
   "metadata": {},
   "outputs": [],
   "source": [
    "#5)Generate all possible sorted arrays from alternate elements of two given sorted arrays\n",
    "# - given 2 sorted array A & B\n",
    "# - make sorted array\n",
    "# -always end with B"
   ]
  },
  {
   "cell_type": "code",
   "execution_count": 695,
   "metadata": {},
   "outputs": [],
   "source": [
    "# generateUtil(A,B,C,):\n",
    "#     m = len(B)\n",
    "#     n = len(A)\n",
    "    \n",
    "    "
   ]
  },
  {
   "cell_type": "code",
   "execution_count": null,
   "metadata": {},
   "outputs": [],
   "source": []
  },
  {
   "cell_type": "code",
   "execution_count": 696,
   "metadata": {},
   "outputs": [],
   "source": [
    "# def generate(A,B): \n",
    "  \n",
    "#     C=[]    #output array  \n",
    "#     for i in range(len(B)+len(A)+1): \n",
    "#         C.append(0) \n",
    "#     generateUtil(A, B, C, 0, 0, 0, True) "
   ]
  },
  {
   "cell_type": "code",
   "execution_count": 697,
   "metadata": {},
   "outputs": [],
   "source": [
    "#6)pythogorean triplets in an array"
   ]
  },
  {
   "cell_type": "code",
   "execution_count": 698,
   "metadata": {},
   "outputs": [],
   "source": [
    "def pytho(arr):\n",
    "    arr.sort()\n",
    "    print(arr)\n",
    "    for i in range(len(arr)-2):\n",
    "        j=i+1\n",
    "        k = len(arr)-1\n",
    "        while k>j:\n",
    "            if (arr[k]**2 == arr[j]**2 + arr[i]**2):\n",
    "                print(arr[i],arr[j],arr[k])\n",
    "            \n",
    "            k-=1\n",
    "        \n",
    "            "
   ]
  },
  {
   "cell_type": "code",
   "execution_count": 699,
   "metadata": {},
   "outputs": [
    {
     "name": "stdout",
     "output_type": "stream",
     "text": [
      "[1, 3, 4, 5, 6]\n",
      "3 4 5\n"
     ]
    }
   ],
   "source": [
    "pytho([3, 1, 4, 6, 5])"
   ]
  },
  {
   "cell_type": "code",
   "execution_count": 700,
   "metadata": {},
   "outputs": [],
   "source": [
    "#7)longest contigous subarray"
   ]
  },
  {
   "cell_type": "code",
   "execution_count": 701,
   "metadata": {},
   "outputs": [],
   "source": [
    "def contsubarray(arr):\n",
    "    arr.sort()\n",
    "    print (arr)\n",
    "    high = 0\n",
    "    \n",
    "    for i in range(len(arr)-1):\n",
    "        count = 1\n",
    "        for j in range(i+1,len(arr)):            \n",
    "            if (arr[j] - arr[i] == j-i):\n",
    "                count +=1\n",
    "        if count > high:\n",
    "            high = count\n",
    "    return high"
   ]
  },
  {
   "cell_type": "code",
   "execution_count": 702,
   "metadata": {},
   "outputs": [
    {
     "name": "stdout",
     "output_type": "stream",
     "text": [
      "[1, 2, 5, 7, 8, 9]\n"
     ]
    },
    {
     "data": {
      "text/plain": [
       "3"
      ]
     },
     "execution_count": 702,
     "metadata": {},
     "output_type": "execute_result"
    }
   ],
   "source": [
    "contsubarray([9,8,7,5,1,2])"
   ]
  },
  {
   "cell_type": "code",
   "execution_count": 703,
   "metadata": {},
   "outputs": [],
   "source": [
    "#8)Stock Buy Sell to Maximize Profit"
   ]
  },
  {
   "cell_type": "code",
   "execution_count": 704,
   "metadata": {},
   "outputs": [],
   "source": [
    "def stock(arr):\n",
    "#     arr.sort(reverse=True)\n",
    "    profit = 0\n",
    "    stock=0\n",
    "    i=0\n",
    "    for i in range(len(arr)-1): \n",
    "        if arr[i+1] > arr[i]:\n",
    "            if stock == 0:\n",
    "                stock = 1\n",
    "                print('buy stock on day ' + str(i+1))\n",
    "            profit+= arr[i+1] - arr[i]\n",
    "            \n",
    "        else:\n",
    "            if stock :\n",
    "                print('sell stock on day '+  str(i+1))\n",
    "                stock = 0\n",
    "            continue    \n",
    "    \n",
    "    if stock:\n",
    "        print('sell stock on day '+  str(len(arr)))\n",
    "            \n",
    "    return profit        \n",
    "        \n",
    "    "
   ]
  },
  {
   "cell_type": "code",
   "execution_count": 706,
   "metadata": {},
   "outputs": [
    {
     "name": "stdout",
     "output_type": "stream",
     "text": [
      "buy stock on day 1\n",
      "sell stock on day 4\n",
      "buy stock on day 5\n",
      "sell stock on day 7\n"
     ]
    },
    {
     "data": {
      "text/plain": [
       "865"
      ]
     },
     "execution_count": 706,
     "metadata": {},
     "output_type": "execute_result"
    }
   ],
   "source": [
    "stock([100, 180, 260, 310, 40, 535, 695])\n"
   ]
  },
  {
   "cell_type": "code",
   "execution_count": 707,
   "metadata": {},
   "outputs": [],
   "source": [
    "#9)Smallest subarray with sum greater than a given value"
   ]
  },
  {
   "cell_type": "code",
   "execution_count": 865,
   "metadata": {},
   "outputs": [],
   "source": [
    "def Small_subarray_sum(arr,x):\n",
    "    \n",
    "    finalc = len(arr)\n",
    "    finalarray = []\n",
    "    for i in range(len(arr)):\n",
    "        sum=0\n",
    "        dummy = []\n",
    "        count = 0\n",
    "        \n",
    "        \n",
    "        for j in range(i,len(arr)):\n",
    "            sum+= arr[j]\n",
    "            dummy.append(arr[j])\n",
    "            count+=1\n",
    "            \n",
    "            if sum>x:\n",
    "#                 print(dummy)\n",
    "#                 print(count,finalc)\n",
    "                if count < finalc:\n",
    "                    finalc = count\n",
    "                    finalarray = dummy\n",
    "                    \n",
    "                break\n",
    "            \n",
    "    return finalarray\n",
    "                "
   ]
  },
  {
   "cell_type": "code",
   "execution_count": 869,
   "metadata": {},
   "outputs": [
    {
     "data": {
      "text/plain": [
       "[]"
      ]
     },
     "execution_count": 869,
     "metadata": {},
     "output_type": "execute_result"
    }
   ],
   "source": [
    "arr = [51,51]\n",
    "x  =  51\n",
    "Small_subarray_sum(arr,x)"
   ]
  },
  {
   "cell_type": "code",
   "execution_count": null,
   "metadata": {},
   "outputs": [],
   "source": []
  },
  {
   "cell_type": "code",
   "execution_count": null,
   "metadata": {},
   "outputs": [],
   "source": []
  },
  {
   "cell_type": "code",
   "execution_count": null,
   "metadata": {},
   "outputs": [],
   "source": []
  },
  {
   "cell_type": "code",
   "execution_count": null,
   "metadata": {},
   "outputs": [],
   "source": []
  },
  {
   "cell_type": "code",
   "execution_count": null,
   "metadata": {},
   "outputs": [],
   "source": []
  },
  {
   "cell_type": "code",
   "execution_count": null,
   "metadata": {},
   "outputs": [],
   "source": []
  },
  {
   "cell_type": "code",
   "execution_count": null,
   "metadata": {},
   "outputs": [],
   "source": []
  },
  {
   "cell_type": "code",
   "execution_count": null,
   "metadata": {},
   "outputs": [],
   "source": []
  }
 ],
 "metadata": {
  "kernelspec": {
   "display_name": "Python 3 (ipykernel)",
   "language": "python",
   "name": "python3"
  },
  "language_info": {
   "codemirror_mode": {
    "name": "ipython",
    "version": 3
   },
   "file_extension": ".py",
   "mimetype": "text/x-python",
   "name": "python",
   "nbconvert_exporter": "python",
   "pygments_lexer": "ipython3",
   "version": "3.11.4"
  }
 },
 "nbformat": 4,
 "nbformat_minor": 2
}
