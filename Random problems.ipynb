{
 "cells": [
  {
   "cell_type": "code",
   "execution_count": 44,
   "metadata": {},
   "outputs": [],
   "source": [
    "#given 2 lists find elements in A not in B\n",
    "\n",
    "from collections import Counter\n",
    "\n",
    "def func(A, B):\n",
    "    a= Counter(A)\n",
    "    b = Counter(B)\n",
    "#     print(a)\n",
    "#     print(b)\n",
    "    d = list((a-b).items())\n",
    "    print(d)\n",
    "    final = []\n",
    "    for n in d:\n",
    "        a = n[1]\n",
    "        for m in range(a):\n",
    "            final.append(n[0])\n",
    "    return final    "
   ]
  },
  {
   "cell_type": "code",
   "execution_count": 45,
   "metadata": {},
   "outputs": [
    {
     "name": "stdout",
     "output_type": "stream",
     "text": [
      "[(2, 1), (1, 1), (3, 1)]\n"
     ]
    },
    {
     "data": {
      "text/plain": [
       "[2, 1, 3]"
      ]
     },
     "execution_count": 45,
     "metadata": {},
     "output_type": "execute_result"
    }
   ],
   "source": [
    "# func([2,3,3],[2,3])\n",
    "func([2,1,2,3,3],[2,3])"
   ]
  },
  {
   "cell_type": "code",
   "execution_count": null,
   "metadata": {},
   "outputs": [],
   "source": []
  },
  {
   "cell_type": "code",
   "execution_count": 46,
   "metadata": {},
   "outputs": [],
   "source": [
    "#Kadane's Algorithm \n",
    "\n",
    "def contigoussubarray(arr):\n",
    "    sub = []\n",
    "    max = 0 \n",
    "    for n in range(len(arr)):\n",
    "        sub = arr[:n+1]\n",
    "        sum = 0\n",
    "        for i in sub:\n",
    "            sum +=i\n",
    "            if sum > max:\n",
    "                max = sum\n",
    "    return max "
   ]
  },
  {
   "cell_type": "code",
   "execution_count": 47,
   "metadata": {},
   "outputs": [
    {
     "data": {
      "text/plain": [
       "6"
      ]
     },
     "execution_count": 47,
     "metadata": {},
     "output_type": "execute_result"
    }
   ],
   "source": [
    "contigoussubarray([1,2,3,-4])"
   ]
  },
  {
   "cell_type": "code",
   "execution_count": null,
   "metadata": {},
   "outputs": [],
   "source": [
    "def sumsubarray(arr,s):\n",
    "    for i in range(len(arr)):\n",
    "        for j in range(len(arr)):\n",
    "            if j+1>i:\n",
    "                sub = arr[i:j+1]\n",
    "                sum = 0\n",
    "                for x in sub:\n",
    "                    sum +=x\n",
    "                    if sum == s:\n",
    "                        return (i+1,j+1)\n",
    "    return -1                "
   ]
  },
  {
   "cell_type": "code",
   "execution_count": null,
   "metadata": {},
   "outputs": [],
   "source": [
    "sumsubarray([1,2,3,4],5)"
   ]
  },
  {
   "cell_type": "markdown",
   "metadata": {},
   "source": [
    "##### "
   ]
  },
  {
   "cell_type": "code",
   "execution_count": null,
   "metadata": {},
   "outputs": [],
   "source": [
    "def sortarr(A):\n",
    "    b=[]\n",
    "    c=[]\n",
    "    d=[]\n",
    "    for n in range(len(A)):\n",
    "        if A[n] == 0:\n",
    "            b.append(A[n])\n",
    "            \n",
    "        if A[n] == 1:\n",
    "            c.append(A[n])\n",
    "        \n",
    "        if A[n] == 2:\n",
    "            d.append(A[n])\n",
    "            \n",
    "    return b+c+d      "
   ]
  },
  {
   "cell_type": "code",
   "execution_count": null,
   "metadata": {},
   "outputs": [],
   "source": [
    "sortarr([1,2,0,2,1,0])"
   ]
  },
  {
   "cell_type": "code",
   "execution_count": 28,
   "metadata": {},
   "outputs": [],
   "source": [
    "def equilibrium(array):\n",
    "    found = -1\n",
    "    for i in range(1, len(array)):\n",
    "        \n",
    "        left = array[0:i]\n",
    "        right = array[i+1:]\n",
    "        print(left,i,right)\n",
    "#         print(sum(left))\n",
    "#         print(sum(right))\n",
    "        if sum(left) == sum(right):\n",
    "            print('Equilibrium found!')\n",
    "            found =  i + 1\n",
    "            \n",
    "         \n",
    "    return found\n",
    "   "
   ]
  },
  {
   "cell_type": "code",
   "execution_count": 29,
   "metadata": {},
   "outputs": [
    {
     "name": "stdout",
     "output_type": "stream",
     "text": [
      "[1] 1 [5, 2, 2]\n",
      "[1, 3] 2 [2, 2]\n",
      "Equilibrium found!\n",
      "[1, 3, 5] 3 [2]\n",
      "[1, 3, 5, 2] 4 []\n"
     ]
    },
    {
     "data": {
      "text/plain": [
       "3"
      ]
     },
     "execution_count": 29,
     "metadata": {},
     "output_type": "execute_result"
    }
   ],
   "source": [
    "equilibrium([1,3,5,2,2])"
   ]
  },
  {
   "cell_type": "code",
   "execution_count": 16,
   "metadata": {},
   "outputs": [
    {
     "data": {
      "text/plain": [
       "[1]"
      ]
     },
     "execution_count": 16,
     "metadata": {},
     "output_type": "execute_result"
    }
   ],
   "source": [
    "arr[0:1]"
   ]
  },
  {
   "cell_type": "code",
   "execution_count": 17,
   "metadata": {},
   "outputs": [
    {
     "data": {
      "text/plain": [
       "[3, 4, 5]"
      ]
     },
     "execution_count": 17,
     "metadata": {},
     "output_type": "execute_result"
    }
   ],
   "source": [
    "arr[2:]"
   ]
  },
  {
   "cell_type": "code",
   "execution_count": null,
   "metadata": {},
   "outputs": [],
   "source": []
  }
 ],
 "metadata": {
  "kernelspec": {
   "display_name": "Python 3",
   "language": "python",
   "name": "python3"
  },
  "language_info": {
   "codemirror_mode": {
    "name": "ipython",
    "version": 3
   },
   "file_extension": ".py",
   "mimetype": "text/x-python",
   "name": "python",
   "nbconvert_exporter": "python",
   "pygments_lexer": "ipython3",
   "version": "3.6.5"
  }
 },
 "nbformat": 4,
 "nbformat_minor": 2
}
