{
 "cells": [
  {
   "cell_type": "code",
   "execution_count": 104,
   "metadata": {},
   "outputs": [],
   "source": [
    "def Coinchange(target, coins):\n",
    "    \n",
    "    if target in coins:\n",
    "        return 1\n",
    "    \n",
    "    else:\n",
    "        \n",
    "        min_coins = target\n",
    "        coins = [c for c in coins if c<= target]\n",
    "        for i in coins:\n",
    "\n",
    "            num_coins = 1 + Coinchange(target-i,coins)\n",
    "            if num_coins < min_coins:\n",
    "                min_coins = num_coins\n",
    "\n",
    "    return min_coins\n"
   ]
  },
  {
   "cell_type": "code",
   "execution_count": 162,
   "metadata": {},
   "outputs": [
    {
     "data": {
      "text/plain": [
       "3"
      ]
     },
     "execution_count": 162,
     "metadata": {},
     "output_type": "execute_result"
    }
   ],
   "source": [
    "target = 16\n",
    "coins = [1,5,10,25]\n",
    "Coinchange(target,coins)"
   ]
  },
  {
   "cell_type": "code",
   "execution_count": 163,
   "metadata": {},
   "outputs": [],
   "source": [
    "def coin_change_dyn(target, coins, known):\n",
    "    \n",
    "    min_coins = target\n",
    "    \n",
    "    if target in coins:\n",
    "        known[target] = 1\n",
    "        return 1\n",
    "    \n",
    "    elif known[target] >0:\n",
    "        return known[target]\n",
    "    \n",
    "    else:\n",
    "        for i in [c for c in coins if c <= target]:\n",
    "            \n",
    "            num_coins = 1 + coin_change_dyn(target-i, coins, known)\n",
    "            if num_coins < min_coins:\n",
    "                min_coins = num_coins\n",
    "                \n",
    "        known[target] = min_coins\n",
    "        \n",
    "    return known[target]"
   ]
  },
  {
   "cell_type": "code",
   "execution_count": 164,
   "metadata": {},
   "outputs": [
    {
     "data": {
      "text/plain": [
       "8"
      ]
     },
     "execution_count": 164,
     "metadata": {},
     "output_type": "execute_result"
    }
   ],
   "source": [
    "target = 74\n",
    "coins = [1,5,10,25]\n",
    "known_results = [0]*(target+1)\n",
    "\n",
    "coin_change_dyn(target,coins,known_results)"
   ]
  },
  {
   "cell_type": "code",
   "execution_count": null,
   "metadata": {},
   "outputs": [],
   "source": []
  },
  {
   "cell_type": "code",
   "execution_count": null,
   "metadata": {},
   "outputs": [],
   "source": []
  },
  {
   "cell_type": "code",
   "execution_count": null,
   "metadata": {},
   "outputs": [],
   "source": []
  }
 ],
 "metadata": {
  "kernelspec": {
   "display_name": "Python 3",
   "language": "python",
   "name": "python3"
  },
  "language_info": {
   "codemirror_mode": {
    "name": "ipython",
    "version": 3
   },
   "file_extension": ".py",
   "mimetype": "text/x-python",
   "name": "python",
   "nbconvert_exporter": "python",
   "pygments_lexer": "ipython3",
   "version": "3.6.5"
  }
 },
 "nbformat": 4,
 "nbformat_minor": 2
}
