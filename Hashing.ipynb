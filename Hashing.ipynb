{
 "cells": [
  {
   "cell_type": "code",
   "execution_count": 34,
   "metadata": {},
   "outputs": [],
   "source": [
    "## HashTable"
   ]
  },
  {
   "cell_type": "code",
   "execution_count": 1,
   "metadata": {},
   "outputs": [],
   "source": [
    "class Hashtable(object):\n",
    "    \n",
    "    def __init__(self,size):\n",
    "        self.size = size\n",
    "        self.slots = [None]* size\n",
    "        self.data =[None]* size\n",
    "    \n",
    "    def hashfunction(self, key, size):\n",
    "        return key%size\n",
    "    \n",
    "    def rehash(self,oldhash,size):\n",
    "        return (oldhash+1)%size\n",
    "    \n",
    "    def put(self,key,data):\n",
    "        \n",
    "        hashvalue = self.hashfunction(key,len(self.slots))\n",
    "        \n",
    "        if self.slots[hashvalue] == None:\n",
    "            self.slots[hashvalue] = key\n",
    "            self.data[hashvalue] = data       \n",
    "        else:\n",
    "            if self.slot[hashvalue] == key:\n",
    "                self.data = data\n",
    "            else:\n",
    "                nextslot = self.rehash(hashvalue, len(self.slots))\n",
    "                \n",
    "                while self.slots[nextslot] != None and self.slot[nextslot] != key:\n",
    "                    nextslot = self.rehash(nextslot, len(self.slots))\n",
    "                    \n",
    "                if self.slots[nextslot] == None:\n",
    "                    self.slots[nextslot] = key\n",
    "                    self.data[nextslot] = data\n",
    "                    \n",
    "                else:\n",
    "                    self.data[nextslot] = data\n",
    "    \n",
    "   \n",
    "                    \n",
    "    def get(self,key):\n",
    "        startslot = self.hashfunction(key,len(self.slots))\n",
    "        position = startslot\n",
    "        data = None\n",
    "        stop = False\n",
    "        found = False\n",
    "        \n",
    "        while self.slots[position] != None and not found and not stop:\n",
    "            \n",
    "            if self.slots[position] == key:\n",
    "                found = True\n",
    "                data = self.data[position]\n",
    "                \n",
    "            else :\n",
    "                position = self.rehash(position,len(self.slots))\n",
    "                if position == startslot:\n",
    "                    stop = True\n",
    "                    \n",
    "                    \n",
    "        return data  \n",
    "    \n",
    "    def __getitem__(self,key):\n",
    "        return self.get(key)\n",
    "    \n",
    "    def __setitem__(self,key,data):\n",
    "        self.put(key,data)"
   ]
  },
  {
   "cell_type": "code",
   "execution_count": null,
   "metadata": {},
   "outputs": [],
   "source": [
    "\n"
   ]
  },
  {
   "cell_type": "code",
   "execution_count": null,
   "metadata": {},
   "outputs": [],
   "source": []
  },
  {
   "cell_type": "code",
   "execution_count": 2,
   "metadata": {},
   "outputs": [],
   "source": [
    "h = Hashtable(5)"
   ]
  },
  {
   "cell_type": "code",
   "execution_count": 3,
   "metadata": {},
   "outputs": [],
   "source": [
    "h.put(1,'one')"
   ]
  },
  {
   "cell_type": "code",
   "execution_count": 4,
   "metadata": {},
   "outputs": [
    {
     "data": {
      "text/plain": [
       "'one'"
      ]
     },
     "execution_count": 4,
     "metadata": {},
     "output_type": "execute_result"
    }
   ],
   "source": [
    "h.get(1)"
   ]
  },
  {
   "cell_type": "code",
   "execution_count": 5,
   "metadata": {},
   "outputs": [],
   "source": [
    "h[2] = 'two'"
   ]
  },
  {
   "cell_type": "code",
   "execution_count": 6,
   "metadata": {},
   "outputs": [
    {
     "data": {
      "text/plain": [
       "'two'"
      ]
     },
     "execution_count": 6,
     "metadata": {},
     "output_type": "execute_result"
    }
   ],
   "source": [
    "h[2]"
   ]
  },
  {
   "cell_type": "code",
   "execution_count": null,
   "metadata": {},
   "outputs": [],
   "source": []
  },
  {
   "cell_type": "code",
   "execution_count": null,
   "metadata": {},
   "outputs": [],
   "source": []
  },
  {
   "cell_type": "code",
   "execution_count": null,
   "metadata": {},
   "outputs": [],
   "source": []
  }
 ],
 "metadata": {
  "kernelspec": {
   "display_name": "Python 3",
   "language": "python",
   "name": "python3"
  },
  "language_info": {
   "codemirror_mode": {
    "name": "ipython",
    "version": 3
   },
   "file_extension": ".py",
   "mimetype": "text/x-python",
   "name": "python",
   "nbconvert_exporter": "python",
   "pygments_lexer": "ipython3",
   "version": "3.6.5"
  }
 },
 "nbformat": 4,
 "nbformat_minor": 2
}
