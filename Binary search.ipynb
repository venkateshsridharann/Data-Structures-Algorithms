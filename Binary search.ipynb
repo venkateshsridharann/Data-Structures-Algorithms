{
 "cells": [
  {
   "cell_type": "code",
   "execution_count": 71,
   "metadata": {},
   "outputs": [],
   "source": [
    "def Binary_search1(arr, x):\n",
    "    \n",
    "    a = arr\n",
    "    left = arr\n",
    "    right = arr\n",
    "    found = False\n",
    "    \n",
    "    while found is False and len(left)>0 and len(right)>0:\n",
    "        \n",
    "        length = len(a)\n",
    "        mid = int(length/2)\n",
    "        left = a[0:mid]\n",
    "        right = a[mid:]\n",
    "        \n",
    "        if a[mid] < x:\n",
    "            a = right\n",
    "        elif a[mid] > x:\n",
    "            a = left\n",
    "        elif a[mid] == x:\n",
    "            found = True    \n",
    "            \n",
    "    if found is True:\n",
    "        print('Element found!')\n",
    "    else:\n",
    "        print('Not Found!')        \n",
    "            \n",
    "            "
   ]
  },
  {
   "cell_type": "code",
   "execution_count": 72,
   "metadata": {},
   "outputs": [
    {
     "name": "stdout",
     "output_type": "stream",
     "text": [
      "Element found!\n"
     ]
    }
   ],
   "source": [
    "Binary_search1(arr=[1,2,3,4,5],x=4)"
   ]
  },
  {
   "cell_type": "code",
   "execution_count": null,
   "metadata": {},
   "outputs": [],
   "source": []
  },
  {
   "cell_type": "code",
   "execution_count": 50,
   "metadata": {},
   "outputs": [],
   "source": []
  },
  {
   "cell_type": "code",
   "execution_count": null,
   "metadata": {},
   "outputs": [],
   "source": []
  },
  {
   "cell_type": "code",
   "execution_count": null,
   "metadata": {},
   "outputs": [],
   "source": []
  },
  {
   "cell_type": "code",
   "execution_count": null,
   "metadata": {},
   "outputs": [],
   "source": []
  },
  {
   "cell_type": "code",
   "execution_count": null,
   "metadata": {},
   "outputs": [],
   "source": []
  }
 ],
 "metadata": {
  "kernelspec": {
   "display_name": "Python 3",
   "language": "python",
   "name": "python3"
  },
  "language_info": {
   "codemirror_mode": {
    "name": "ipython",
    "version": 3
   },
   "file_extension": ".py",
   "mimetype": "text/x-python",
   "name": "python",
   "nbconvert_exporter": "python",
   "pygments_lexer": "ipython3",
   "version": "3.6.5"
  }
 },
 "nbformat": 4,
 "nbformat_minor": 2
}
