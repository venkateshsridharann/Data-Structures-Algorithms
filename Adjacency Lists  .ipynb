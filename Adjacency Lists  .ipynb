{
 "cells": [
  {
   "cell_type": "code",
   "execution_count": 8,
   "metadata": {},
   "outputs": [],
   "source": [
    "class Vertex:\n",
    "    def __init__(self,key):\n",
    "        self.id = key\n",
    "        self.connectedTo = {}\n",
    "    \n",
    "    def getkey(self):\n",
    "        return self.key\n",
    "    \n",
    "    def getweight(self):\n",
    "        return self.connectedTo[nbr]\n",
    "        \n",
    "    def addneighbours(self,nbr,w=0):\n",
    "        self.connectedTo[nbr] = w    \n",
    "    \n",
    "    def seeconnectedTo(self):\n",
    "        return self.connectedTo.keys()\n",
    "    \n",
    "    def __str__(self):\n",
    "        return str(self.id) + \"connected to : \" + str([x.id for x in self.connectedTo])"
   ]
  },
  {
   "cell_type": "code",
   "execution_count": 10,
   "metadata": {},
   "outputs": [],
   "source": [
    "class Graph:\n",
    "    \n",
    "    def init(self):\n",
    "        self.vertexlist = {}\n",
    "        self.vertexcount = 0\n",
    "        \n",
    "    def addvertex(self,key):\n",
    "        self.vertexcount +=1\n",
    "        nv = Vertex(key)\n",
    "        self.vertexlist[key] = nv\n",
    "        return nv\n",
    "    \n",
    "    def getvertex(self, n):\n",
    "        if n in vertexlist:\n",
    "            return vertexlist[n]\n",
    "        else :\n",
    "            return None\n",
    "        \n",
    "    def getvertices(self):\n",
    "        return self.vertexlist.keys()\n",
    "    \n",
    "    def addEdge(self, f,t,w):\n",
    "        if f not in self.vertexlist:\n",
    "            nv = addvertex(f)\n",
    "        if t not in self.vertexlist:\n",
    "            nv = addvertex(t)\n",
    "        self.vertexlist(f).addneighbour(self.vertexlist[t], w)\n",
    "    \n",
    "        \n",
    "            "
   ]
  },
  {
   "cell_type": "code",
   "execution_count": null,
   "metadata": {},
   "outputs": [],
   "source": []
  },
  {
   "cell_type": "code",
   "execution_count": 27,
   "metadata": {},
   "outputs": [],
   "source": [
    "graph = {'A': set(['B', 'C']),\n",
    "         'B': set(['A', 'D', 'E']),\n",
    "         'C': set(['A', 'F']),\n",
    "         'D': set(['B']),\n",
    "         'E': set(['B', 'F']),\n",
    "         'F': set(['C', 'E'])}"
   ]
  },
  {
   "cell_type": "code",
   "execution_count": 44,
   "metadata": {},
   "outputs": [
    {
     "name": "stdout",
     "output_type": "stream",
     "text": [
      "['A']\n",
      "['A', 'C']\n",
      "['A', 'B']\n",
      "['A', 'B', 'D']\n",
      "['A', 'B', 'E']\n"
     ]
    },
    {
     "data": {
      "text/plain": [
       "[['A', 'C', 'F'], ['A', 'B', 'E', 'F']]"
      ]
     },
     "execution_count": 44,
     "metadata": {},
     "output_type": "execute_result"
    }
   ],
   "source": [
    "def bfs_paths(graph, start, goal):\n",
    "    queue = [(start, [start])]\n",
    "#     print(queue)\n",
    "    while queue:\n",
    "        (vertex, path) = queue.pop(0)\n",
    "        print(path)\n",
    "        for next in graph[vertex] - set(path):\n",
    "            if next == goal:\n",
    "                yield path + [next]\n",
    "            else:\n",
    "                queue.append((next, path + [next]))\n",
    "\n",
    "list(bfs_paths(graph, 'A', 'F'))"
   ]
  },
  {
   "cell_type": "code",
   "execution_count": null,
   "metadata": {},
   "outputs": [],
   "source": []
  },
  {
   "cell_type": "code",
   "execution_count": 39,
   "metadata": {},
   "outputs": [
    {
     "data": {
      "text/plain": [
       "<generator object func at 0x000002CA987A64C0>"
      ]
     },
     "execution_count": 39,
     "metadata": {},
     "output_type": "execute_result"
    }
   ],
   "source": [
    "func(1)"
   ]
  },
  {
   "cell_type": "code",
   "execution_count": null,
   "metadata": {},
   "outputs": [],
   "source": []
  }
 ],
 "metadata": {
  "kernelspec": {
   "display_name": "Python 3",
   "language": "python",
   "name": "python3"
  },
  "language_info": {
   "codemirror_mode": {
    "name": "ipython",
    "version": 3
   },
   "file_extension": ".py",
   "mimetype": "text/x-python",
   "name": "python",
   "nbconvert_exporter": "python",
   "pygments_lexer": "ipython3",
   "version": "3.6.5"
  }
 },
 "nbformat": 4,
 "nbformat_minor": 2
}
