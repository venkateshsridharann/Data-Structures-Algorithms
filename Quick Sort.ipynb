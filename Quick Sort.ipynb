{
 "cells": [
  {
   "cell_type": "code",
   "execution_count": 60,
   "metadata": {},
   "outputs": [
    {
     "data": {
      "text/plain": [
       "[0, 1, 2, 3, 4, 5, 5, 6, 7, 7, 8, 9]"
      ]
     },
     "execution_count": 60,
     "metadata": {},
     "output_type": "execute_result"
    }
   ],
   "source": [
    "def Quick_sort(arr):\n",
    "    \n",
    "    Quick_sort_help(arr,0,len(arr)-1)\n",
    "\n",
    "    \n",
    "    \n",
    "def Quick_sort_help(arr,first,last):\n",
    "    if first<last:\n",
    "\n",
    "        splitpoint = partition(arr,first,last)\n",
    "\n",
    "        Quick_sort_help(arr,first,splitpoint-1)\n",
    "        Quick_sort_help(arr,splitpoint+1,last)\n",
    "\n",
    "def partition(arr,first,last):\n",
    "    \n",
    "    pivot = arr[first]\n",
    "    leftmark = first+1\n",
    "    rightmark = last\n",
    "    done = False\n",
    "    \n",
    "    \n",
    "    while not done:\n",
    "        \n",
    "        while leftmark <= rightmark and arr[leftmark] <= pivot:\n",
    "            \n",
    "            leftmark += 1\n",
    "            \n",
    "        while leftmark <= rightmark and arr[rightmark] >= pivot:\n",
    "            \n",
    "            rightmark -= 1\n",
    "        \n",
    "        if leftmark > rightmark:\n",
    "            done = True\n",
    "    \n",
    "        else: \n",
    "            tmp = arr[leftmark]\n",
    "            arr[leftmark] = arr[rightmark]\n",
    "            arr[rightmark] = tmp\n",
    "        \n",
    "    tmp = arr[first]\n",
    "    arr[first] = arr[rightmark]\n",
    "    arr[rightmark] = tmp\n",
    "    \n",
    "    return rightmark\n",
    "            \n",
    "    \n",
    "arr = [9,6,7,4,8,5,7,3,5,2,0,1]\n",
    "Quick_sort(arr)\n",
    "arr\n",
    "        "
   ]
  },
  {
   "cell_type": "code",
   "execution_count": null,
   "metadata": {},
   "outputs": [],
   "source": []
  },
  {
   "cell_type": "code",
   "execution_count": null,
   "metadata": {},
   "outputs": [],
   "source": []
  },
  {
   "cell_type": "code",
   "execution_count": null,
   "metadata": {},
   "outputs": [],
   "source": []
  },
  {
   "cell_type": "code",
   "execution_count": null,
   "metadata": {},
   "outputs": [],
   "source": []
  },
  {
   "cell_type": "code",
   "execution_count": null,
   "metadata": {},
   "outputs": [],
   "source": []
  },
  {
   "cell_type": "code",
   "execution_count": null,
   "metadata": {},
   "outputs": [],
   "source": []
  },
  {
   "cell_type": "code",
   "execution_count": null,
   "metadata": {},
   "outputs": [],
   "source": []
  },
  {
   "cell_type": "code",
   "execution_count": null,
   "metadata": {},
   "outputs": [],
   "source": []
  },
  {
   "cell_type": "code",
   "execution_count": null,
   "metadata": {},
   "outputs": [],
   "source": []
  },
  {
   "cell_type": "code",
   "execution_count": null,
   "metadata": {},
   "outputs": [],
   "source": []
  },
  {
   "cell_type": "code",
   "execution_count": null,
   "metadata": {},
   "outputs": [],
   "source": []
  },
  {
   "cell_type": "code",
   "execution_count": null,
   "metadata": {},
   "outputs": [],
   "source": []
  },
  {
   "cell_type": "code",
   "execution_count": null,
   "metadata": {},
   "outputs": [],
   "source": []
  },
  {
   "cell_type": "code",
   "execution_count": null,
   "metadata": {},
   "outputs": [],
   "source": []
  },
  {
   "cell_type": "code",
   "execution_count": null,
   "metadata": {},
   "outputs": [],
   "source": []
  },
  {
   "cell_type": "code",
   "execution_count": null,
   "metadata": {},
   "outputs": [],
   "source": []
  }
 ],
 "metadata": {
  "kernelspec": {
   "display_name": "Python 3",
   "language": "python",
   "name": "python3"
  },
  "language_info": {
   "codemirror_mode": {
    "name": "ipython",
    "version": 3
   },
   "file_extension": ".py",
   "mimetype": "text/x-python",
   "name": "python",
   "nbconvert_exporter": "python",
   "pygments_lexer": "ipython3",
   "version": "3.6.5"
  }
 },
 "nbformat": 4,
 "nbformat_minor": 2
}
