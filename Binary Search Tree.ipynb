{
 "cells": [
  {
   "cell_type": "code",
   "execution_count": 1,
   "metadata": {},
   "outputs": [],
   "source": [
    "##Binary Search Tree"
   ]
  },
  {
   "cell_type": "code",
   "execution_count": 134,
   "metadata": {},
   "outputs": [],
   "source": [
    "class Node:\n",
    "#     initializing the node\n",
    "    def __init__(self,data):\n",
    "        self.data = data\n",
    "        self.right = None\n",
    "        self.left = None\n",
    "    \n",
    "#     inserting the given values\n",
    "    def insert(self,num):\n",
    "        \n",
    "        if self.data:\n",
    "            \n",
    "            if num < self.data :\n",
    "                if self.left is None:\n",
    "                    self.left = Node(num)\n",
    "                else:\n",
    "                    self.left.insert(num)\n",
    "                    \n",
    "            elif num > self.data:\n",
    "                if self.right is None:\n",
    "                    self.right = Node(num)\n",
    "                else:\n",
    "                    self.right.insert(num)            \n",
    "                    \n",
    "        else:    \n",
    "            self.data = num\n",
    "\n",
    "#   looking upt he given value and returning the node and its parent\n",
    "            \n",
    "    def lookup(self, data, parent=None):\n",
    "\n",
    "        if data < self.data:\n",
    "            if self.left is None:\n",
    "                    return None, None\n",
    "            return self.left.lookup(data, self)\n",
    "\n",
    "        elif (data > self.data):\n",
    "            if self.right is None:\n",
    "                return None, None\n",
    "            return self.right.lookup(data, self)\n",
    "        else:\n",
    "            return self, parent\n",
    "\n",
    "        \n",
    "    def children_count(self):\n",
    "        count = 0\n",
    "        if self.left:\n",
    "            count+=1\n",
    "        if self.right:\n",
    "            count+=1\n",
    "        return count    \n",
    "    \n",
    "#       deleting the node and hadling with its children \n",
    "#       there are 3 possibilities, node has no child, 1 child or 2 children\n",
    "    def delete(self,data):         \n",
    "        \n",
    "        node, parent = self.lookup(data)\n",
    "        \n",
    "        if node is not None:\n",
    "            \n",
    "            children_count = node.children_count()\n",
    "            \n",
    "            if children_count == 0: \n",
    "                if parent:\n",
    "                    if parent.left is node:\n",
    "                        parent.left = None\n",
    "                        \n",
    "                    if parent.right is node:\n",
    "                        parent.right = None\n",
    "                    del node\n",
    "                \n",
    "                else:\n",
    "                    self.data = None\n",
    "                    \n",
    "            \n",
    "            elif children_count == 1:\n",
    "                \n",
    "                if node.left:\n",
    "                    c= node.left\n",
    "                else:\n",
    "                    c=node.right\n",
    "                \n",
    "                if parent:\n",
    "                    if parent.left is node:\n",
    "                        parent.left = c\n",
    "                        \n",
    "                    if parent.right is node:\n",
    "                        parent.right = c \n",
    "                    del node\n",
    "                \n",
    "                else:\n",
    "                    self.data = n.data\n",
    "                    self.left = n.left\n",
    "                    self.right = n.right\n",
    "                \n",
    "                \n",
    "            else:\n",
    "                parent = node \n",
    "                successor = node.right\n",
    "                \n",
    "                while successor.left:\n",
    "                    parent = successor\n",
    "                    successor = successor.left\n",
    "                    \n",
    "                node.data = successor.data\n",
    "                \n",
    "                if parent.left == successor:\n",
    "                    parent.left = successor.right\n",
    "                else:\n",
    "                    parent.right = successor.right\n",
    "                    \n",
    "\n",
    "    def print_tree(self):\n",
    "        tree = []\n",
    "        \n",
    "        tree.append(self.data)\n",
    "        if self.left:\n",
    "            tree.append(self.left.print_tree())\n",
    "        if self.right:\n",
    "            tree.append(self.right.print_tree())\n",
    "        return tree                \n",
    "                \n",
    "                \n"
   ]
  },
  {
   "cell_type": "code",
   "execution_count": 142,
   "metadata": {},
   "outputs": [],
   "source": [
    "a= Node(100)\n",
    "a.insert(2)\n",
    "a.insert(101)\n",
    "a.insert(11)\n",
    "a.insert(6)\n",
    "a.insert(0)\n",
    "a.insert(120)\n",
    "a.insert(11)\n",
    "a.insert(12)\n",
    "a.insert(105)\n",
    "\n"
   ]
  },
  {
   "cell_type": "code",
   "execution_count": 143,
   "metadata": {},
   "outputs": [
    {
     "data": {
      "text/plain": [
       "[100, [2, [0], [11, [6], [12]]], [101, [120, [105]]]]"
      ]
     },
     "execution_count": 143,
     "metadata": {},
     "output_type": "execute_result"
    }
   ],
   "source": [
    "a.print_tree()"
   ]
  },
  {
   "cell_type": "code",
   "execution_count": 144,
   "metadata": {},
   "outputs": [],
   "source": [
    "a.delete(0)"
   ]
  },
  {
   "cell_type": "code",
   "execution_count": 145,
   "metadata": {},
   "outputs": [
    {
     "data": {
      "text/plain": [
       "[100, [2, [11, [6], [12]]], [101, [120, [105]]]]"
      ]
     },
     "execution_count": 145,
     "metadata": {},
     "output_type": "execute_result"
    }
   ],
   "source": [
    "a.print_tree()"
   ]
  },
  {
   "cell_type": "code",
   "execution_count": 146,
   "metadata": {},
   "outputs": [
    {
     "data": {
      "text/plain": [
       "(<__main__.Node at 0x18049871f28>, <__main__.Node at 0x180498715c0>)"
      ]
     },
     "execution_count": 146,
     "metadata": {},
     "output_type": "execute_result"
    }
   ],
   "source": [
    "a.lookup(105)\n"
   ]
  },
  {
   "cell_type": "code",
   "execution_count": null,
   "metadata": {},
   "outputs": [],
   "source": []
  }
 ],
 "metadata": {
  "kernelspec": {
   "display_name": "Python 3",
   "language": "python",
   "name": "python3"
  },
  "language_info": {
   "codemirror_mode": {
    "name": "ipython",
    "version": 3
   },
   "file_extension": ".py",
   "mimetype": "text/x-python",
   "name": "python",
   "nbconvert_exporter": "python",
   "pygments_lexer": "ipython3",
   "version": "3.6.5"
  }
 },
 "nbformat": 4,
 "nbformat_minor": 2
}
